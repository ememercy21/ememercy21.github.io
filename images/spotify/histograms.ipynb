{
 "cells": [
  {
   "cell_type": "code",
   "execution_count": null,
   "id": "671b33dd-8746-4a78-a33e-d2f74b104e71",
   "metadata": {},
   "outputs": [],
   "source": [
    "import glob\n",
    "import pandas as pd\n",
    "from colorthief import ColorThief\n",
    "import matplotlib.pyplot as plt\n",
    "\n",
    "# Use glob to get a list of file paths for all the images in the folder\n",
    "image_paths = glob.glob(r\"\\Users\\ememe\\Documents\\music data project\\spotify python data\\90s\\AlbumArt\\images\\*.jpg\")\n",
    "\n",
    "# Create a list to store the dominant colors for each image\n",
    "colors = []\n",
    "\n",
    "# Loop through the list of image paths\n",
    "for path in image_paths:\n",
    "    # Use the ColorThief object to extract the dominant color from the image\n",
    "    color_thief = ColorThief(path)\n",
    "    dominant_color = color_thief.get_color()\n",
    "    dominant_colors = color_thief.get_palette(color_count=3)\n",
    "\n",
    "# Print the dominant colors\n",
    "    #print(dominant_colors)\n",
    "\n",
    "    # Add the file path and dominant color to the list\n",
    "    for color in dominant_colors:\n",
    "        colors.append({'path': path, 'R': color[0], 'G': color[1], 'B': color[2]})\n",
    "\n",
    "# Create a DataFrame from the list of colors\n",
    "df = pd.DataFrame(colors, columns=['B', 'R', 'G'])\n",
    "\n",
    "# Plot the distribution of dominant colors using a histogram\n",
    "df.plot.hist(column=['R','G','B'], bins=10, alpha=0.5, color=['r','g','b'])\n",
    "plt.xlabel(\"RGB Color\")\n",
    "plt.ylabel(\"Frequency\")\n",
    "plt.title(\"90s Albums Histograms\")\n",
    "\n",
    "plt.savefig(r'C:\\Users\\ememe\\Documents\\music data project\\spotify python data\\90s\\figures\\histogram.png')   # save the figure to file\n",
    "plt.close()\n",
    "plt.show()"
   ]
  },
  {
   "cell_type": "code",
   "execution_count": null,
   "id": "e31e80e0-b3db-497e-a686-049b00593bae",
   "metadata": {},
   "outputs": [],
   "source": [
    "import glob\n",
    "import pandas as pd\n",
    "from colorthief import ColorThief\n",
    "import matplotlib.pyplot as plt\n",
    "\n",
    "# Use glob to get a list of file paths for all the images in the folder\n",
    "image_paths = glob.glob(r\"\\Users\\ememe\\Documents\\music data project\\spotify python data\\00s\\AlbumArt\\images\\*.jpg\")\n",
    "\n",
    "# Create a list to store the dominant colors for each image\n",
    "colors = []\n",
    "\n",
    "# Loop through the list of image paths\n",
    "for path in image_paths:\n",
    "    # Use the ColorThief object to extract the dominant color from the image\n",
    "    color_thief = ColorThief(path)\n",
    "    dominant_color = color_thief.get_color()\n",
    "    dominant_colors = color_thief.get_palette(color_count=3)\n",
    "\n",
    "# Print the dominant colors\n",
    "    #print(dominant_colors)\n",
    "\n",
    "    # Add the file path and dominant color to the list\n",
    "    for color in dominant_colors:\n",
    "        colors.append({'path': path, 'R': color[0], 'G': color[1], 'B': color[2]})\n",
    "\n",
    "# Create a DataFrame from the list of colors\n",
    "df = pd.DataFrame(colors, columns=['B', 'R', 'G'])\n",
    "\n",
    "# Plot the distribution of dominant colors using a histogram\n",
    "df.plot.hist(column=['R','G','B'], bins=10, alpha=0.5, color=['r','g','b'])\n",
    "plt.xlabel(\"RGB Color\")\n",
    "plt.ylabel(\"Frequency\")\n",
    "plt.title(\"2000s Albums Histograms\")\n",
    "\n",
    "plt.savefig(r'C:\\Users\\ememe\\Documents\\music data project\\spotify python data\\00s\\figures\\histogram.png')   # save the figure to file\n",
    "plt.close()\n",
    "plt.show()"
   ]
  },
  {
   "cell_type": "code",
   "execution_count": 5,
   "id": "01d0ef2c-e047-4d31-aa32-646b42f57c44",
   "metadata": {},
   "outputs": [],
   "source": [
    "import glob\n",
    "import pandas as pd\n",
    "from colorthief import ColorThief\n",
    "import matplotlib.pyplot as plt\n",
    "\n",
    "# Use glob to get a list of file paths for all the images in the folder\n",
    "image_paths = glob.glob(r\"\\Users\\ememe\\Documents\\music data project\\spotify python data\\10s\\AlbumArt\\images\\*.jpg\")\n",
    "\n",
    "# Create a list to store the dominant colors for each image\n",
    "colors = []\n",
    "\n",
    "# Loop through the list of image paths\n",
    "for path in image_paths:\n",
    "    # Use the ColorThief object to extract the dominant color from the image\n",
    "    color_thief = ColorThief(path)\n",
    "    dominant_color = color_thief.get_color()\n",
    "    dominant_colors = color_thief.get_palette(color_count=3)\n",
    "\n",
    "# Print the dominant colors\n",
    "    #print(dominant_colors)\n",
    "\n",
    "    # Add the file path and dominant color to the list\n",
    "    for color in dominant_colors:\n",
    "        colors.append({'path': path, 'R': color[0], 'G': color[1], 'B': color[2]})\n",
    "\n",
    "# Create a DataFrame from the list of colors\n",
    "df = pd.DataFrame(colors, columns=['B', 'R', 'G'])\n",
    "\n",
    "# Plot the distribution of dominant colors using a histogram\n",
    "# Plot the distribution of dominant colors using a histogram\n",
    "df.plot.hist(column=['R','G','B'], bins=10, alpha=0.5, color=['r','g','b'])\n",
    "plt.xlabel(\"RGB Color\")\n",
    "plt.ylabel(\"Frequency\")\n",
    "plt.title(\"2010s Albums Histograms\")\n",
    "\n",
    "plt.savefig(r'C:\\Users\\ememe\\Documents\\music data project\\spotify python data\\10s\\figures\\histogram.png')   # save the figure to file\n",
    "plt.close()\n",
    "plt.show()"
   ]
  },
  {
   "cell_type": "code",
   "execution_count": null,
   "id": "53b93146-d275-4ccc-b820-1f1f56f01836",
   "metadata": {},
   "outputs": [],
   "source": [
    "import glob\n",
    "import pandas as pd\n",
    "from colorthief import ColorThief\n",
    "import matplotlib.pyplot as plt\n",
    "\n",
    "# Use glob to get a list of file paths for all the images in the folder\n",
    "image_paths = glob.glob(r\"\\Users\\ememe\\Documents\\music data project\\spotify python data\\20s\\AlbumArt\\images\\*.jpg\")\n",
    "\n",
    "# Create a list to store the dominant colors for each image\n",
    "colors = []\n",
    "\n",
    "# Loop through the list of image paths\n",
    "for path in image_paths:\n",
    "    # Use the ColorThief object to extract the dominant color from the image\n",
    "    color_thief = ColorThief(path)\n",
    "    dominant_color = color_thief.get_color()\n",
    "    dominant_colors = color_thief.get_palette(color_count=3)\n",
    "\n",
    "# Print the dominant colors\n",
    "    #print(dominant_colors)\n",
    "\n",
    "    # Add the file path and dominant color to the list\n",
    "    for color in dominant_colors:\n",
    "        colors.append({'path': path, 'R': color[0], 'G': color[1], 'B': color[2]})\n",
    "\n",
    "# Create a DataFrame from the list of colors\n",
    "df = pd.DataFrame(colors, columns=['B', 'R', 'G'])\n",
    "\n",
    "# Plot the distribution of dominant colors using a histogram\n",
    "# Plot the distribution of dominant colors using a histogram\n",
    "df.plot.hist(column=['R','G','B'], bins=10, alpha=0.5, color=['r','g','b'])\n",
    "plt.xlabel(\"RGB Color\")\n",
    "plt.ylabel(\"Frequency\")\n",
    "plt.title(\"2020s Albums Histograms\")\n",
    "\n",
    "plt.savefig(r'C:\\Users\\ememe\\Documents\\music data project\\spotify python data\\20s\\figures\\histogram.png')   # save the figure to file\n",
    "plt.close()\n",
    "plt.show()"
   ]
  },
  {
   "cell_type": "code",
   "execution_count": 11,
   "id": "a5889b01-634f-43f3-929c-a06ea8701940",
   "metadata": {},
   "outputs": [
    {
     "data": {
      "image/png": "[encoded data removed]",
      "text/plain": [
       "<Figure size 864x288 with 3 Axes>"
      ]
     },
     "metadata": {
      "needs_background": "light"
     },
     "output_type": "display_data"
    }
   ],
   "source": [
    "# Use glob to get a list of file paths for all the images in the folder\n",
    "image_paths = glob.glob(r\"\\Users\\ememe\\Documents\\music data project\\spotify python data\\90s\\AlbumArt\\images\\*.jpg\")\n",
    "\n",
    "# Create a list to store the dominant colors for each image\n",
    "colors = []\n",
    "\n",
    "# Loop through the list of image paths\n",
    "for path in image_paths:\n",
    "    # Use the ColorThief object to extract the dominant color from the image\n",
    "    color_thief = ColorThief(path)\n",
    "    dominant_color = color_thief.get_color()\n",
    "    dominant_colors = color_thief.get_palette(color_count=3)\n",
    "\n",
    "# Print the dominant colors\n",
    "    #print(dominant_colors)\n",
    "\n",
    "    # Add the file path and dominant color to the list\n",
    "    for color in dominant_colors:\n",
    "        colors.append({'path': path, 'R': color[0], 'G': color[1], 'B': color[2]})\n",
    "\n",
    "# Create a DataFrame from the list of colors\n",
    "df = pd.DataFrame(colors, columns=['B', 'R', 'G'])\n",
    "\n",
    "# Create a figure with three subplots\n",
    "fig, (ax1, ax2, ax3) = plt.subplots(1, 3, figsize=(12, 4))\n",
    "\n",
    "# Plot the histogram for the red values in the first subplot\n",
    "df['R'].plot.hist(bins=10, alpha=0.5, color = 'red', ax=ax1)\n",
    "ax1.set_title('Red values')\n",
    "\n",
    "# Plot the histogram for the green values in the second subplot\n",
    "df['G'].plot.hist(bins=10, alpha=0.5, color = 'green', ax=ax2)\n",
    "ax2.set_title('Green values')\n",
    "\n",
    "# Plot the histogram for the blue values in the third subplot\n",
    "df['B'].plot.hist(bins=10, alpha=0.5, color = 'blue', ax=ax3)\n",
    "ax3.set_title('Blue values')\n",
    "\n",
    "# Adjust the spacing between subplots\n",
    "plt.tight_layout()\n",
    "\n",
    "# Show the plot\n",
    "plt.show()"
   ]
  },
  {
   "cell_type": "code",
   "execution_count": 12,
   "id": "9bdfd0f9-215c-4ece-96d4-bb0a4c9fdcab",
   "metadata": {},
   "outputs": [
    {
     "data": {
      "image/png": "[encoded data removed]",
      "text/plain": [
       "<Figure size 864x288 with 3 Axes>"
      ]
     },
     "metadata": {
      "needs_background": "light"
     },
     "output_type": "display_data"
    }
   ],
   "source": [
    "# Use glob to get a list of file paths for all the images in the folder\n",
    "image_paths = glob.glob(r\"\\Users\\ememe\\Documents\\music data project\\spotify python data\\00s\\AlbumArt\\images\\*.jpg\")\n",
    "\n",
    "# Create a list to store the dominant colors for each image\n",
    "colors = []\n",
    "\n",
    "# Loop through the list of image paths\n",
    "for path in image_paths:\n",
    "    # Use the ColorThief object to extract the dominant color from the image\n",
    "    color_thief = ColorThief(path)\n",
    "    dominant_color = color_thief.get_color()\n",
    "    dominant_colors = color_thief.get_palette(color_count=3)\n",
    "\n",
    "# Print the dominant colors\n",
    "    #print(dominant_colors)\n",
    "\n",
    "    # Add the file path and dominant color to the list\n",
    "    for color in dominant_colors:\n",
    "        colors.append({'path': path, 'R': color[0], 'G': color[1], 'B': color[2]})\n",
    "\n",
    "# Create a DataFrame from the list of colors\n",
    "df = pd.DataFrame(colors, columns=['B', 'R', 'G'])\n",
    "\n",
    "# Create a figure with three subplots\n",
    "fig, (ax1, ax2, ax3) = plt.subplots(1, 3, figsize=(12, 4))\n",
    "\n",
    "# Plot the histogram for the red values in the first subplot\n",
    "df['R'].plot.hist(bins=10, alpha=0.5, color = 'red', ax=ax1)\n",
    "ax1.set_title('Red values')\n",
    "\n",
    "# Plot the histogram for the green values in the second subplot\n",
    "df['G'].plot.hist(bins=10, alpha=0.5, color = 'green', ax=ax2)\n",
    "ax2.set_title('Green values')\n",
    "\n",
    "# Plot the histogram for the blue values in the third subplot\n",
    "df['B'].plot.hist(bins=10, alpha=0.5, color = 'blue', ax=ax3)\n",
    "ax3.set_title('Blue values')\n",
    "\n",
    "# Adjust the spacing between subplots\n",
    "plt.tight_layout()\n",
    "\n",
    "# Show the plot\n",
    "plt.show()"
   ]
  },
  {
   "cell_type": "code",
   "execution_count": 13,
   "id": "3d44dc64-484e-4c0e-9705-d4a257fbb420",
   "metadata": {},
   "outputs": [
    {
     "data": {
      "image/png": "[encoded data removed]",
      "text/plain": [
       "<Figure size 864x288 with 3 Axes>"
      ]
     },
     "metadata": {
      "needs_background": "light"
     },
     "output_type": "display_data"
    }
   ],
   "source": [
    "# Use glob to get a list of file paths for all the images in the folder\n",
    "image_paths = glob.glob(r\"\\Users\\ememe\\Documents\\music data project\\spotify python data\\10s\\AlbumArt\\images\\*.jpg\")\n",
    "\n",
    "# Create a list to store the dominant colors for each image\n",
    "colors = []\n",
    "\n",
    "# Loop through the list of image paths\n",
    "for path in image_paths:\n",
    "    # Use the ColorThief object to extract the dominant color from the image\n",
    "    color_thief = ColorThief(path)\n",
    "    dominant_color = color_thief.get_color()\n",
    "    dominant_colors = color_thief.get_palette(color_count=3)\n",
    "\n",
    "# Print the dominant colors\n",
    "    #print(dominant_colors)\n",
    "\n",
    "    # Add the file path and dominant color to the list\n",
    "    for color in dominant_colors:\n",
    "        colors.append({'path': path, 'R': color[0], 'G': color[1], 'B': color[2]})\n",
    "\n",
    "# Create a DataFrame from the list of colors\n",
    "df = pd.DataFrame(colors, columns=['B', 'R', 'G'])\n",
    "\n",
    "# Create a figure with three subplots\n",
    "fig, (ax1, ax2, ax3) = plt.subplots(1, 3, figsize=(12, 4))\n",
    "\n",
    "# Plot the histogram for the red values in the first subplot\n",
    "df['R'].plot.hist(bins=10, alpha=0.5, color = 'red', ax=ax1)\n",
    "ax1.set_title('Red values')\n",
    "\n",
    "# Plot the histogram for the green values in the second subplot\n",
    "df['G'].plot.hist(bins=10, alpha=0.5, color = 'green', ax=ax2)\n",
    "ax2.set_title('Green values')\n",
    "\n",
    "# Plot the histogram for the blue values in the third subplot\n",
    "df['B'].plot.hist(bins=10, alpha=0.5, color = 'blue', ax=ax3)\n",
    "ax3.set_title('Blue values')\n",
    "\n",
    "# Adjust the spacing between subplots\n",
    "plt.tight_layout()\n",
    "\n",
    "# Show the plot\n",
    "plt.show()"
   ]
  },
  {
   "cell_type": "code",
   "execution_count": 14,
   "id": "2f59713f-3e7b-47ce-a51a-da68ac73d9ca",
   "metadata": {},
   "outputs": [
    {
     "data": {
      "image/png": "[encoded data removed]",
      "text/plain": [
       "<Figure size 864x288 with 3 Axes>"
      ]
     },
     "metadata": {
      "needs_background": "light"
     },
     "output_type": "display_data"
    }
   ],
   "source": [
    "# Use glob to get a list of file paths for all the images in the folder\n",
    "image_paths = glob.glob(r\"\\Users\\ememe\\Documents\\music data project\\spotify python data\\90sto10s\\AlbumArt\\images\\*.jpg\")\n",
    "\n",
    "# Create a list to store the dominant colors for each image\n",
    "colors = []\n",
    "\n",
    "# Loop through the list of image paths\n",
    "for path in image_paths:\n",
    "    # Use the ColorThief object to extract the dominant color from the image\n",
    "    color_thief = ColorThief(path)\n",
    "    dominant_color = color_thief.get_color()\n",
    "    dominant_colors = color_thief.get_palette(color_count=3)\n",
    "\n",
    "# Print the dominant colors\n",
    "    #print(dominant_colors)\n",
    "\n",
    "    # Add the file path and dominant color to the list\n",
    "    for color in dominant_colors:\n",
    "        colors.append({'path': path, 'R': color[0], 'G': color[1], 'B': color[2]})\n",
    "\n",
    "# Create a DataFrame from the list of colors\n",
    "df = pd.DataFrame(colors, columns=['B', 'R', 'G'])\n",
    "\n",
    "# Create a figure with three subplots\n",
    "fig, (ax1, ax2, ax3) = plt.subplots(1, 3, figsize=(12, 4))\n",
    "\n",
    "# Plot the histogram for the red values in the first subplot\n",
    "df['R'].plot.hist(bins=10, alpha=0.5, color = 'red', ax=ax1)\n",
    "ax1.set_title('Red values')\n",
    "\n",
    "# Plot the histogram for the green values in the second subplot\n",
    "df['G'].plot.hist(bins=10, alpha=0.5, color = 'green', ax=ax2)\n",
    "ax2.set_title('Green values')\n",
    "\n",
    "# Plot the histogram for the blue values in the third subplot\n",
    "df['B'].plot.hist(bins=10, alpha=0.5, color = 'blue', ax=ax3)\n",
    "ax3.set_title('Blue values')\n",
    "\n",
    "# Adjust the spacing between subplots\n",
    "plt.tight_layout()\n",
    "\n",
    "# Show the plot\n",
    "plt.show()"
   ]
  },
  {
   "cell_type": "code",
   "execution_count": 12,
   "id": "8c9ae97d-0e51-4a21-b3e9-665111bec29c",
   "metadata": {},
   "outputs": [
    {
     "data": {
      "image/png": "[encoded data removed]",
      "text/plain": [
       "<Figure size 432x288 with 1 Axes>"
      ]
     },
     "metadata": {
      "needs_background": "light"
     },
     "output_type": "display_data"
    },
    {
     "data": {
      "image/png": "[encoded data removed]",
      "text/plain": [
       "<Figure size 432x288 with 1 Axes>"
      ]
     },
     "metadata": {
      "needs_background": "light"
     },
     "output_type": "display_data"
    }
   ],
   "source": [
    "# Use glob to get a list of file paths for all the images in the folder\n",
    "image_paths = glob.glob(r\"\\Users\\ememe\\Documents\\music data project\\spotify python data\\90s\\AlbumArt\\images\\*.jpg\")\n",
    "\n",
    "# Create a list to store the dominant colors for each image\n",
    "colors = []\n",
    "\n",
    "# Loop through the list of image paths\n",
    "for path in image_paths:\n",
    "    # Use the ColorThief object to extract the dominant color from the image\n",
    "    color_thief = ColorThief(path)\n",
    "    dominant_color = color_thief.get_color()\n",
    "    dominant_colors = color_thief.get_palette(color_count=5)\n",
    "\n",
    "# Print the dominant colors\n",
    "    #print(dominant_colors)\n",
    "\n",
    "    # Add the file path and dominant color to the list\n",
    "    for color in dominant_colors:\n",
    "        colors.append({'path': path, 'R': color[0], 'G': color[1], 'B': color[2]})\n",
    "\n",
    "# Create a DataFrame from the list of colors\n",
    "df = pd.DataFrame(colors, columns=['B', 'R', 'G'])\n",
    "\n",
    "# Plot the distribution of dominant colors using a histogram\n",
    "plt.imshow([dominant_color])\n",
    "plt.show()\n",
    "\n",
    "dominant_colors = color_thief.get_palette(color_count=5)\n",
    "plt.imshow([[dominant_colors[i] for i in range (5)]])\n",
    "plt.show()"
   ]
  },
  {
   "cell_type": "code",
   "execution_count": 11,
   "id": "b8031ce5-dc96-4a93-8308-d50ba0c02d80",
   "metadata": {},
   "outputs": [
    {
     "data": {
      "image/png": "[encoded data removed]",
      "text/plain": [
       "<Figure size 432x288 with 1 Axes>"
      ]
     },
     "metadata": {
      "needs_background": "light"
     },
     "output_type": "display_data"
    },
    {
     "data": {
      "image/png": "[encoded data removed]",
      "text/plain": [
       "<Figure size 432x288 with 1 Axes>"
      ]
     },
     "metadata": {
      "needs_background": "light"
     },
     "output_type": "display_data"
    }
   ],
   "source": [
    "# Use glob to get a list of file paths for all the images in the folder\n",
    "image_paths = glob.glob(r\"\\Users\\ememe\\Documents\\music data project\\spotify python data\\00s\\AlbumArt\\images\\*.jpg\")\n",
    "\n",
    "# Create a list to store the dominant colors for each image\n",
    "colors = []\n",
    "\n",
    "# Loop through the list of image paths\n",
    "for path in image_paths:\n",
    "    # Use the ColorThief object to extract the dominant color from the image\n",
    "    color_thief = ColorThief(path)\n",
    "    dominant_color = color_thief.get_color()\n",
    "    dominant_colors = color_thief.get_palette(color_count=10)\n",
    "\n",
    "# Print the dominant colors\n",
    "    #print(dominant_colors)\n",
    "\n",
    "    # Add the file path and dominant color to the list\n",
    "    for color in dominant_colors:\n",
    "        colors.append({'path': path, 'R': color[0], 'G': color[1], 'B': color[2]})\n",
    "\n",
    "# Create a DataFrame from the list of colors\n",
    "df = pd.DataFrame(colors, columns=['B', 'R', 'G'])\n",
    "\n",
    "# Plot the distribution of dominant colors using a histogram\n",
    "plt.imshow([dominant_color])\n",
    "plt.show()\n",
    "\n",
    "dominant_colors = color_thief.get_palette(color_count=10)\n",
    "plt.imshow([[dominant_colors[i] for i in range (5)]])\n",
    "plt.show()"
   ]
  },
  {
   "cell_type": "code",
   "execution_count": 13,
   "id": "6c27fd8e-817e-4a58-8539-0c90c0e5ce90",
   "metadata": {},
   "outputs": [
    {
     "data": {
      "image/png": "[encoded data removed]",
      "text/plain": [
       "<Figure size 432x288 with 1 Axes>"
      ]
     },
     "metadata": {
      "needs_background": "light"
     },
     "output_type": "display_data"
    },
    {
     "data": {
      "image/png": "[encoded data removed]",
      "text/plain": [
       "<Figure size 432x288 with 1 Axes>"
      ]
     },
     "metadata": {
      "needs_background": "light"
     },
     "output_type": "display_data"
    }
   ],
   "source": [
    "# Use glob to get a list of file paths for all the images in the folder\n",
    "image_paths = glob.glob(r\"\\Users\\ememe\\Documents\\music data project\\spotify python data\\10s\\AlbumArt\\images\\*.jpg\")\n",
    "\n",
    "# Create a list to store the dominant colors for each image\n",
    "colors = []\n",
    "\n",
    "# Loop through the list of image paths\n",
    "for path in image_paths:\n",
    "    # Use the ColorThief object to extract the dominant color from the image\n",
    "    color_thief = ColorThief(path)\n",
    "    dominant_color = color_thief.get_color()\n",
    "    dominant_colors = color_thief.get_palette(color_count=10)\n",
    "\n",
    "# Print the dominant colors\n",
    "    #print(dominant_colors)\n",
    "\n",
    "    # Add the file path and dominant color to the list\n",
    "    for color in dominant_colors:\n",
    "        colors.append({'path': path, 'R': color[0], 'G': color[1], 'B': color[2]})\n",
    "\n",
    "# Create a DataFrame from the list of colors\n",
    "df = pd.DataFrame(colors, columns=['B', 'R', 'G'])\n",
    "\n",
    "# Plot the distribution of dominant colors using a histogram\n",
    "plt.imshow([dominant_color])\n",
    "plt.show()\n",
    "\n",
    "dominant_colors = color_thief.get_palette(color_count=10)\n",
    "plt.imshow([[dominant_colors[i] for i in range (5)]])\n",
    "plt.show()"
   ]
  },
  {
   "cell_type": "code",
   "execution_count": 25,
   "id": "06a4ce67-cc00-4af5-baf4-225794141b10",
   "metadata": {},
   "outputs": [
    {
     "data": {
      "image/png": "[encoded data removed]",
      "text/plain": [
       "<Figure size 432x288 with 1 Axes>"
      ]
     },
     "metadata": {
      "needs_background": "light"
     },
     "output_type": "display_data"
    },
    {
     "data": {
      "image/png": "[encoded data removed]",
      "text/plain": [
       "<Figure size 432x288 with 1 Axes>"
      ]
     },
     "metadata": {
      "needs_background": "light"
     },
     "output_type": "display_data"
    }
   ],
   "source": [
    "# Use glob to get a list of file paths for all the images in the folder\n",
    "testing = (r\"C:\\Users\\ememe\\Documents\\music data project\\spotify python data\\00s\\AlbumArt\\images\\The Breakthrough.jpg\")\n",
    "\n",
    "# Create a list to store the dominant colors for each image\n",
    "colors2 = []\n",
    "\n",
    "# Loop through the list of image paths\n",
    "\n",
    "# Use the ColorThief object to extract the dominant color from the image\n",
    "color_thief2 = ColorThief(testing)\n",
    "dominant_color2 = color_thief2.get_color(quality=1)\n",
    "dominant_colors2 = color_thief2.get_palette(color_count=10)\n",
    "\n",
    "# Print the dominant colors\n",
    "    #print(dominant_colors)\n",
    "\n",
    "    # Add the file path and dominant color to the list\n",
    "\n",
    "# Create a DataFrame from the list of colors\n",
    "df = pd.DataFrame(colors, columns=['B', 'R', 'G'])\n",
    "\n",
    "# Plot the distribution of dominant colors using a histogram\n",
    "plt.imshow([dominant_color2])\n",
    "plt.show()\n",
    "\n",
    "dominant_colors = color_thief.get_palette(color_count=10)\n",
    "plt.imshow([[dominant_colors2[i] for i in range (5)]])\n",
    "plt.show()"
   ]
  },
  {
   "cell_type": "code",
   "execution_count": 28,
   "id": "2d572adf-e2a1-4a9c-ba94-a81b57b0f117",
   "metadata": {},
   "outputs": [
    {
     "data": {
      "image/png": "[encoded data removed]",
      "text/plain": [
       "<Figure size 432x288 with 1 Axes>"
      ]
     },
     "metadata": {
      "needs_background": "light"
     },
     "output_type": "display_data"
    }
   ],
   "source": [
    "# Use glob to get a list of file paths for all the images in the folder\n",
    "image_paths = glob.glob(r\"\\Users\\ememe\\Documents\\music data project\\spotify python data\\90s\\AlbumArt\\images\\*.jpg\")\n",
    "\n",
    "# Create a list to store the dominant colors for each image\n",
    "colors = []\n",
    "\n",
    "# Loop through the list of image paths\n",
    "for path in image_paths:\n",
    "    # Use the ColorThief object to extract the dominant color from the image\n",
    "    color_thief = ColorThief(path)\n",
    "    dominant_color = color_thief.get_color()\n",
    "    dominant_colors = color_thief.get_palette(color_count=255)\n",
    "\n",
    "# Print the dominant colors\n",
    "    #print(dominant_colors)\n",
    "\n",
    "    # Add the file path and dominant color to the list\n",
    "    for color in dominant_colors:\n",
    "        colors.append({'path': path, 'R': color[0], 'G': color[1], 'B': color[2]})\n",
    "\n",
    "# Create a DataFrame from the list of colors\n",
    "df = pd.DataFrame(colors, columns=['B', 'R', 'G'])\n",
    "\n",
    "\n",
    "\n",
    "dominant_colors = color_thief.get_palette(color_count=255)\n",
    "plt.imshow([[dominant_colors[i] for i in range (50)]])\n",
    "plt.show()"
   ]
  },
  {
   "cell_type": "code",
   "execution_count": 29,
   "id": "9ac92dd6-802f-470e-98f6-097442da260b",
   "metadata": {},
   "outputs": [
    {
     "data": {
      "image/png": "[encoded data removed]",
      "text/plain": [
       "<Figure size 432x288 with 1 Axes>"
      ]
     },
     "metadata": {
      "needs_background": "light"
     },
     "output_type": "display_data"
    }
   ],
   "source": [
    "# Use glob to get a list of file paths for all the images in the folder\n",
    "image_paths = glob.glob(r\"\\Users\\ememe\\Documents\\music data project\\spotify python data\\00s\\AlbumArt\\images\\*.jpg\")\n",
    "\n",
    "# Create a list to store the dominant colors for each image\n",
    "colors = []\n",
    "\n",
    "# Loop through the list of image paths\n",
    "for path in image_paths:\n",
    "    # Use the ColorThief object to extract the dominant color from the image\n",
    "    color_thief = ColorThief(path)\n",
    "    dominant_color = color_thief.get_color()\n",
    "    dominant_colors = color_thief.get_palette(color_count=255)\n",
    "\n",
    "# Print the dominant colors\n",
    "    #print(dominant_colors)\n",
    "\n",
    "    # Add the file path and dominant color to the list\n",
    "    for color in dominant_colors:\n",
    "        colors.append({'path': path, 'R': color[0], 'G': color[1], 'B': color[2]})\n",
    "\n",
    "# Create a DataFrame from the list of colors\n",
    "df = pd.DataFrame(colors, columns=['B', 'R', 'G'])\n",
    "\n",
    "\n",
    "\n",
    "dominant_colors = color_thief.get_palette(color_count=255)\n",
    "plt.imshow([[dominant_colors[i] for i in range (50)]])\n",
    "plt.show()"
   ]
  },
  {
   "cell_type": "code",
   "execution_count": 30,
   "id": "42d29741-7f71-462b-89d1-08744aa28800",
   "metadata": {},
   "outputs": [
    {
     "data": {
      "image/png": "[encoded data removed]",
      "text/plain": [
       "<Figure size 432x288 with 1 Axes>"
      ]
     },
     "metadata": {
      "needs_background": "light"
     },
     "output_type": "display_data"
    }
   ],
   "source": [
    "# Use glob to get a list of file paths for all the images in the folder\n",
    "image_paths = glob.glob(r\"\\Users\\ememe\\Documents\\music data project\\spotify python data\\10s\\AlbumArt\\images\\*.jpg\")\n",
    "\n",
    "# Create a list to store the dominant colors for each image\n",
    "colors = []\n",
    "\n",
    "# Loop through the list of image paths\n",
    "for path in image_paths:\n",
    "    # Use the ColorThief object to extract the dominant color from the image\n",
    "    color_thief = ColorThief(path)\n",
    "    dominant_color = color_thief.get_color()\n",
    "    dominant_colors = color_thief.get_palette(color_count=255)\n",
    "\n",
    "# Print the dominant colors\n",
    "    #print(dominant_colors)\n",
    "\n",
    "    # Add the file path and dominant color to the list\n",
    "    for color in dominant_colors:\n",
    "        colors.append({'path': path, 'R': color[0], 'G': color[1], 'B': color[2]})\n",
    "\n",
    "# Create a DataFrame from the list of colors\n",
    "df = pd.DataFrame(colors, columns=['B', 'R', 'G'])\n",
    "\n",
    "\n",
    "\n",
    "dominant_colors = color_thief.get_palette(color_count=255)\n",
    "plt.imshow([[dominant_colors[i] for i in range (50)]])\n",
    "plt.show()"
   ]
  },
  {
   "cell_type": "code",
   "execution_count": 31,
   "id": "3eca0473-56c8-474c-9a93-0fc53dbd470e",
   "metadata": {},
   "outputs": [
    {
     "data": {
      "image/png": "[encoded data removed]",
      "text/plain": [
       "<Figure size 432x288 with 1 Axes>"
      ]
     },
     "metadata": {
      "needs_background": "light"
     },
     "output_type": "display_data"
    }
   ],
   "source": [
    "# Use glob to get a list of file paths for all the images in the folder\n",
    "image_paths = glob.glob(r\"\\Users\\ememe\\Documents\\music data project\\spotify python data\\20s\\AlbumArt\\images\\*.jpg\")\n",
    "\n",
    "# Create a list to store the dominant colors for each image\n",
    "colors = []\n",
    "\n",
    "# Loop through the list of image paths\n",
    "for path in image_paths:\n",
    "    # Use the ColorThief object to extract the dominant color from the image\n",
    "    color_thief = ColorThief(path)\n",
    "    dominant_color = color_thief.get_color()\n",
    "    dominant_colors = color_thief.get_palette(color_count=255)\n",
    "\n",
    "# Print the dominant colors\n",
    "    #print(dominant_colors)\n",
    "\n",
    "    # Add the file path and dominant color to the list\n",
    "    for color in dominant_colors:\n",
    "        colors.append({'path': path, 'R': color[0], 'G': color[1], 'B': color[2]})\n",
    "\n",
    "# Create a DataFrame from the list of colors\n",
    "df = pd.DataFrame(colors, columns=['B', 'R', 'G'])\n",
    "\n",
    "\n",
    "\n",
    "dominant_colors = color_thief.get_palette(color_count=255)\n",
    "plt.imshow([[dominant_colors[i] for i in range (50)]])\n",
    "plt.show()"
   ]
  },
  {
   "cell_type": "code",
   "execution_count": 40,
   "id": "93d81421-523e-4cae-8ebb-6f816d39f9d4",
   "metadata": {},
   "outputs": [
    {
     "data": {
      "image/png": "[encoded data removed]",
      "text/plain": [
       "<Figure size 432x288 with 1 Axes>"
      ]
     },
     "metadata": {
      "needs_background": "light"
     },
     "output_type": "display_data"
    }
   ],
   "source": [
    "# Use glob to get a list of file paths for all the images in the folder\n",
    "image_paths = glob.glob(r\"\\Users\\ememe\\Documents\\music data project\\spotify python data\\10s\\AlbumArt\\images\\*.jpg\")\n",
    "\n",
    "# Get the first 30 images\n",
    "first_30_image_paths = image_paths[:30]\n",
    "\n",
    "# Create a list to store the dominant colors for each image\n",
    "colors = []\n",
    "\n",
    "# Loop through the list of image paths\n",
    "for path in first_30_image_paths:\n",
    "    # Use the ColorThief object to extract the dominant color from the image\n",
    "    color_thief = ColorThief(path)\n",
    "    dominant_color = color_thief.get_color()\n",
    "    dominant_colors = color_thief.get_palette(color_count=255)\n",
    "\n",
    "    # Add the file path and dominant color to the list\n",
    "    for color in dominant_colors:\n",
    "        colors.append({'path': path, 'R': color[0], 'G': color[1], 'B': color[2]})\n",
    "\n",
    "# Create a DataFrame from the list of colors\n",
    "df = pd.DataFrame(colors, columns=['B', 'R', 'G'])\n",
    "\n",
    "dominant_colors = color_thief.get_palette(color_count=255)\n",
    "plt.imshow([[dominant_colors[i] for i in range (50)]])\n",
    "plt.show()\n"
   ]
  },
  {
   "cell_type": "code",
   "execution_count": 48,
   "id": "f02b0c67-34bd-43d1-a587-f9886b98bab3",
   "metadata": {},
   "outputs": [
    {
     "data": {
      "image/png": "[encoded data removed]",
      "text/plain": [
       "<Figure size 432x288 with 1 Axes>"
      ]
     },
     "metadata": {
      "needs_background": "light"
     },
     "output_type": "display_data"
    }
   ],
   "source": [
    "import random\n",
    "\n",
    "# Use glob to get a list of file paths for all the images in the folder\n",
    "image_paths = glob.glob(r\"\\Users\\ememe\\Documents\\music data project\\spotify python data\\10s\\AlbumArt\\images\\*.jpg\")\n",
    "\n",
    "# Shuffle the list of image paths\n",
    "random.shuffle(image_paths)\n",
    "\n",
    "# Get the first 30 images\n",
    "first_30_image_paths = image_paths[:30]\n",
    "\n",
    "# Create a list to store the dominant colors for each image\n",
    "colors = []\n",
    "\n",
    "# Loop through the list of image paths\n",
    "for path in first_30_image_paths:\n",
    "    # Use the ColorThief object to extract the dominant color from the image\n",
    "    color_thief = ColorThief(path)\n",
    "    dominant_color = color_thief.get_color()\n",
    "    dominant_colors = color_thief.get_palette(color_count=255)\n",
    "\n",
    "    # Add the file path and dominant color to the list\n",
    "    for color in dominant_colors:\n",
    "        colors.append({'path': path, 'R': color[0], 'G': color[1], 'B': color[2]})\n",
    "\n",
    "# Create a DataFrame from the list of colors\n",
    "df = pd.DataFrame(colors, columns=['B', 'R', 'G'])\n",
    "\n",
    "dominant_colors = color_thief.get_palette(color_count=255)\n",
    "plt.imshow([[dominant_colors[i] for i in range (50)]])\n",
    "plt.show()"
   ]
  },
  {
   "cell_type": "code",
   "execution_count": 50,
   "id": "9436ca81-38a3-410c-bfea-fad36c77ce14",
   "metadata": {},
   "outputs": [
    {
     "data": {
      "image/png": "[encoded data removed]",
      "text/plain": [
       "<Figure size 432x288 with 1 Axes>"
      ]
     },
     "metadata": {
      "needs_background": "light"
     },
     "output_type": "display_data"
    }
   ],
   "source": [
    "import random\n",
    "\n",
    "# Use glob to get a list of file paths for all the images in the folder\n",
    "image_paths = glob.glob(r\"\\Users\\ememe\\Documents\\music data project\\spotify python data\\00s\\AlbumArt\\images\\*.jpg\")\n",
    "\n",
    "# Shuffle the list of image paths\n",
    "random.shuffle(image_paths)\n",
    "\n",
    "# Get the first 30 images\n",
    "first_30_image_paths = image_paths[:30]\n",
    "\n",
    "# Create a list to store the dominant colors for each image\n",
    "colors = []\n",
    "\n",
    "# Loop through the list of image paths\n",
    "for path in first_30_image_paths:\n",
    "    # Use the ColorThief object to extract the dominant color from the image\n",
    "    color_thief = ColorThief(path)\n",
    "    dominant_color = color_thief.get_color()\n",
    "    dominant_colors = color_thief.get_palette(color_count=255)\n",
    "\n",
    "    # Add the file path and dominant color to the list\n",
    "    for color in dominant_colors:\n",
    "        colors.append({'path': path, 'R': color[0], 'G': color[1], 'B': color[2]})\n",
    "\n",
    "# Create a DataFrame from the list of colors\n",
    "df = pd.DataFrame(colors, columns=['B', 'R', 'G'])\n",
    "\n",
    "dominant_colors = color_thief.get_palette(color_count=255)\n",
    "plt.imshow([[dominant_colors[i] for i in range (50)]])\n",
    "plt.show()"
   ]
  },
  {
   "cell_type": "code",
   "execution_count": 51,
   "id": "2bdb292d-c45f-4bd3-93c1-8a6926b5fb0a",
   "metadata": {},
   "outputs": [
    {
     "data": {
      "image/png": "[encoded data removed]",
      "text/plain": [
       "<Figure size 432x288 with 1 Axes>"
      ]
     },
     "metadata": {
      "needs_background": "light"
     },
     "output_type": "display_data"
    }
   ],
   "source": [
    "import random\n",
    "\n",
    "# Use glob to get a list of file paths for all the images in the folder\n",
    "image_paths = glob.glob(r\"\\Users\\ememe\\Documents\\music data project\\spotify python data\\90s\\AlbumArt\\images\\*.jpg\")\n",
    "\n",
    "# Shuffle the list of image paths\n",
    "random.shuffle(image_paths)\n",
    "\n",
    "# Get the first 30 images\n",
    "first_30_image_paths = image_paths[:30]\n",
    "\n",
    "# Create a list to store the dominant colors for each image\n",
    "colors = []\n",
    "\n",
    "# Loop through the list of image paths\n",
    "for path in first_30_image_paths:\n",
    "    # Use the ColorThief object to extract the dominant color from the image\n",
    "    color_thief = ColorThief(path)\n",
    "    dominant_color = color_thief.get_color()\n",
    "    dominant_colors = color_thief.get_palette(color_count=255)\n",
    "\n",
    "    # Add the file path and dominant color to the list\n",
    "    for color in dominant_colors:\n",
    "        colors.append({'path': path, 'R': color[0], 'G': color[1], 'B': color[2]})\n",
    "\n",
    "# Create a DataFrame from the list of colors\n",
    "df = pd.DataFrame(colors, columns=['B', 'R', 'G'])\n",
    "\n",
    "dominant_colors = color_thief.get_palette(color_count=255)\n",
    "plt.imshow([[dominant_colors[i] for i in range (50)]])\n",
    "plt.show()"
   ]
  },
  {
   "cell_type": "code",
   "execution_count": null,
   "id": "23cf9592-c411-4411-b94d-530c68016e2e",
   "metadata": {},
   "outputs": [],
   "source": []
  }
 ],
 "metadata": {
  "kernelspec": {
   "display_name": "Python 3 (ipykernel)",
   "language": "python",
   "name": "python3"
  },
  "language_info": {
   "codemirror_mode": {
    "name": "ipython",
    "version": 3
   },
   "file_extension": ".py",
   "mimetype": "text/x-python",
   "name": "python",
   "nbconvert_exporter": "python",
   "pygments_lexer": "ipython3",
   "version": "3.9.12"
  }
 },
 "nbformat": 4,
 "nbformat_minor": 5
}
