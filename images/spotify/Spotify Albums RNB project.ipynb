{
 "cells": [
  {
   "cell_type": "code",
   "execution_count": null,
   "id": "a97409e3-07f2-4837-bd70-1ddea3e07767",
   "metadata": {},
   "outputs": [],
   "source": [
    "#This is a condensed and consolidated version of my code (combining multiple of my Jupyter Notebooks)."
   ]
  },
  {
   "cell_type": "code",
   "execution_count": null,
   "id": "531edb9e-b72f-4ccc-84fe-150cbec1f17b",
   "metadata": {},
   "outputs": [],
   "source": [
    "#import necessary libaries\n",
    "import spotipy\n",
    "import spotipy.util as util\n",
    "import csv\n",
    "import requests\n",
    "import shutil\n",
    "import urllib.request\n",
    "\n",
    "#setup authorization(more information on this in the setup authorization file)\n",
    "username = #spotify username, not display name\n",
    "client_id = #can be found on API\n",
    "client_secret = #can be found on API\n",
    "redirect_uri = 'http://localhost:7778/callback' #or any other webpage \n",
    "scope = 'user-library-read'\n",
    "\n",
    "token = util.prompt_for_user_token(username = username, \n",
    "                                   scope = scope, \n",
    "                                   client_id = client_id,   \n",
    "                                   client_secret = client_secret,     \n",
    "                                   redirect_uri = redirect_uri)\n",
    "\n",
    "spotify = spotipy.Spotify(auth = token)\n",
    "\n",
    "\n",
    "#chose playlist of songs \n",
    "playlist = spotify.playlist_tracks(playlist_id = '...')\n",
    "\n",
    "\n",
    "#create list for track ids\n",
    "aList = []\n",
    "#add the id of each song in the playlist\n",
    "for x in playlist['items']:\n",
    "    \taList.append(x['track']['id'])\n",
    "\n",
    "#if there are over 100 songs in the playlist run this:\n",
    "while playlist['next']:\n",
    "\t#move to next 100 songs\n",
    "\tplaylist = spotify.next(playlist)\n",
    "\tfor x in playlist['items']:\n",
    "\t\taList.append(x['track']['id'])\n",
    "\n",
    "\n",
    "#create list for track names, this will help with artist name\n",
    "bList = []\n",
    "#reset the playlist\n",
    "playlist = spotify.playlist_tracks(playlist_id = '...')\n",
    "#add the name of each song in the playlist\n",
    "for x in playlist['items']:\n",
    "\tbList.append(x['track']['name'])\n",
    "#if there are over 100 songs in the playlist run this:\n",
    "while playlist['next']:\n",
    "\t#move to next 100 songs\n",
    "\tplaylist = spotify.next(playlist)\n",
    "\tfor x in playlist['items']:\n",
    "\t\tbList.append(x['track']['name'])\n",
    "#write list to csv in row form\n",
    "outfile1 = open(r'C:\\...\\names.csv','w') #replace '...' with where you want the file to save\n",
    "out = csv.writer(outfile1)\n",
    "out.writerows(map(lambda x: [x], bList))\n",
    "outfile1.close()\n",
    "\n",
    "\n",
    "#create a list of album art URLs\n",
    "cList = []\n",
    "#for each song id grab the album image\n",
    "for id in aList:\n",
    "\tsong = spotify.track(id)\n",
    "\tcList.append(song['album']['images'][0]['url'])\n",
    "\n",
    "\n",
    "#create list for album names\n",
    "dList = []\n",
    "#for each song id grab the album name\n",
    "for id in aList:\n",
    "\tsong = spotify.track(id)\n",
    "\teList.append(song['album']['name'])\n",
    "#write list to csv in row form\n",
    "outfile2 = open(r'C:\\...\\albums.csv','w') #replace '...' with where you want the file to save\n",
    "out = csv.writer(outfile2)\n",
    "out.writerows(map(lambda x: [x], eList))\n",
    "outfile2.close()\n",
    "\n",
    "\n",
    "#download images and save as the album name, save to a folder for later use\n",
    "for url in range(len(cList)):\n",
    "    urllib.request.urlretrieve(cList[url], \n",
    "      r\"C:\\...AlbumArt\\images\\{}.jpg\".format(eList[url]))\n",
    "#this is an example of what I did for all four playlists"
   ]
  },
  {
   "cell_type": "code",
   "execution_count": null,
   "id": "7711d7ed-64af-4992-8277-cb8d0046457d",
   "metadata": {},
   "outputs": [],
   "source": [
    "import glob\n",
    "import pandas as pd\n",
    "from colorthief import ColorThief\n",
    "import matplotlib.pyplot as plt\n",
    "\n",
    "# Use glob to get a list of file paths for all the images in the folder\n",
    "image_paths = glob.glob(r\"\\...\\AlbumArt\\images\\*.jpg\")\n",
    "\n",
    "# Create a list to store the dominant colors for each image\n",
    "colors = []\n",
    "\n",
    "# Loop through the list of image paths\n",
    "for path in image_paths:\n",
    "    # Use the ColorThief object to extract the dominant color from the image\n",
    "    color_thief = ColorThief(path)\n",
    "    dominant_color = color_thief.get_color()\n",
    "    dominant_colors = color_thief.get_palette(color_count=3)\n",
    "\n",
    "# Print the dominant colors\n",
    "    #print(dominant_colors), optional\n",
    "\n",
    "    # Add the file path and dominant color to the list\n",
    "    for color in dominant_colors:\n",
    "        colors.append({'path': path, 'R': color[0], 'G': color[1], 'B': color[2]})\n",
    "\n",
    "# Create a DataFrame from the list of colors\n",
    "df = pd.DataFrame(colors, columns=['B', 'R', 'G'])\n",
    "\n",
    "# Plot the distribution of dominant colors using a histogram\n",
    "df.plot.hist(column=['R','G','B'], bins=10, alpha=0.5, color=['r','g','b'])\n",
    "plt.xlabel(\"RGB Color\")\n",
    "plt.ylabel(\"Frequency\")\n",
    "plt.title(\"90s Albums Histograms\")\n",
    "\n",
    "plt.savefig(r'C:\\...\\figures\\90s_histogram.png')   # save the figure to file, preferably in a separate folder in the same location\n",
    "plt.close()\n",
    "plt.show()\n",
    "\n",
    "#repeat for other images (2000s, 2010s, and 2020)"
   ]
  },
  {
   "cell_type": "code",
   "execution_count": 12,
   "id": "8b7e4ce3-3e91-44cb-9415-8aabdb00f700",
   "metadata": {},
   "outputs": [
    {
     "data": {
      "image/png": "[encoded data removed]",
      "text/plain": [
       "<Figure size 864x288 with 3 Axes>"
      ]
     },
     "metadata": {
      "needs_background": "light"
     },
     "output_type": "display_data"
    }
   ],
   "source": [
    "#if I want to separate the histograms\n",
    "# Use glob to get a list of file paths for all the images in the folder\n",
    "image_paths = glob.glob(r\"\\Users\\ememe\\Documents\\music data project\\spotify python data\\00s\\AlbumArt\\images\\*.jpg\")\n",
    "\n",
    "# Create a list to store the dominant colors for each image\n",
    "colors = []\n",
    "\n",
    "# Loop through the list of image paths\n",
    "for path in image_paths:\n",
    "    # Use the ColorThief object to extract the dominant color from the image\n",
    "    color_thief = ColorThief(path)\n",
    "    dominant_color = color_thief.get_color()\n",
    "    dominant_colors = color_thief.get_palette(color_count=3)\n",
    "\n",
    "# Print the dominant colors\n",
    "    #print(dominant_colors)\n",
    "\n",
    "    # Add the file path and dominant color to the list\n",
    "    for color in dominant_colors:\n",
    "        colors.append({'path': path, 'R': color[0], 'G': color[1], 'B': color[2]})\n",
    "\n",
    "# Create a DataFrame from the list of colors\n",
    "df = pd.DataFrame(colors, columns=['B', 'R', 'G'])\n",
    "\n",
    "# Create a figure with three subplots\n",
    "fig, (ax1, ax2, ax3) = plt.subplots(1, 3, figsize=(12, 4))\n",
    "\n",
    "# Plot the histogram for the red values in the first subplot\n",
    "df['R'].plot.hist(bins=10, alpha=0.5, color = 'red', ax=ax1)\n",
    "ax1.set_title('Red values')\n",
    "\n",
    "# Plot the histogram for the green values in the second subplot\n",
    "df['G'].plot.hist(bins=10, alpha=0.5, color = 'green', ax=ax2)\n",
    "ax2.set_title('Green values')\n",
    "\n",
    "# Plot the histogram for the blue values in the third subplot\n",
    "df['B'].plot.hist(bins=10, alpha=0.5, color = 'blue', ax=ax3)\n",
    "ax3.set_title('Blue values')\n",
    "\n",
    "# Adjust the spacing between subplots\n",
    "plt.tight_layout()\n",
    "\n",
    "# Show the plot\n",
    "plt.show()\n",
    "\n",
    "#repeat for other images (2000s, 2010s, and 2020)"
   ]
  },
  {
   "cell_type": "code",
   "execution_count": 25,
   "id": "46bfd18a-28b5-45f1-b921-c465f288e5bf",
   "metadata": {},
   "outputs": [
    {
     "data": {
      "image/png": "[encoded data removed]",
      "text/plain": [
       "<Figure size 432x288 with 1 Axes>"
      ]
     },
     "metadata": {
      "needs_background": "light"
     },
     "output_type": "display_data"
    },
    {
     "data": {
      "image/png": "[encoded data removed]",
      "text/plain": [
       "<Figure size 432x288 with 1 Axes>"
      ]
     },
     "metadata": {
      "needs_background": "light"
     },
     "output_type": "display_data"
    }
   ],
   "source": [
    "#testing color palette function \n",
    "# Use glob to get a list of file paths for all the images in the folder\n",
    "testing = (r\"C:\\...\\00s\\AlbumArt\\images\\The Breakthrough.jpg\")\n",
    "\n",
    "# Create a list to store the dominant colors for each image\n",
    "colors2 = []\n",
    "\n",
    "# Loop through the list of image paths\n",
    "\n",
    "# Use the ColorThief object to extract the dominant color from the image\n",
    "color_thief2 = ColorThief(testing)\n",
    "dominant_color2 = color_thief2.get_color(quality=1)\n",
    "dominant_colors2 = color_thief2.get_palette(color_count=10)\n",
    "\n",
    "# Print the dominant colors\n",
    "    #print(dominant_colors)\n",
    "\n",
    "    # Add the file path and dominant color to the list\n",
    "\n",
    "# Create a DataFrame from the list of colors\n",
    "df = pd.DataFrame(colors, columns=['B', 'R', 'G'])\n",
    "\n",
    "# Plot the distribution of dominant colors using a histogram\n",
    "plt.imshow([dominant_color2])\n",
    "plt.show()\n",
    "\n",
    "dominant_colors = color_thief.get_palette(color_count=10)\n",
    "plt.imshow([[dominant_colors2[i] for i in range (5)]])\n",
    "plt.show()"
   ]
  },
  {
   "cell_type": "code",
   "execution_count": 28,
   "id": "8303bc14-0d1c-4906-a4bd-339cd6f174e8",
   "metadata": {},
   "outputs": [
    {
     "data": {
      "image/png": "[encoded data removed]",
      "text/plain": [
       "<Figure size 432x288 with 1 Axes>"
      ]
     },
     "metadata": {
      "needs_background": "light"
     },
     "output_type": "display_data"
    }
   ],
   "source": [
    "# Use glob to get a list of file paths for all the images in the folder\n",
    "image_paths = glob.glob(r\"\\...\\90s\\AlbumArt\\images\\*.jpg\")\n",
    "\n",
    "# Create a list to store the dominant colors for each image\n",
    "colors = []\n",
    "\n",
    "# Loop through the list of image paths\n",
    "for path in image_paths:\n",
    "    # Use the ColorThief object to extract the dominant color from the image\n",
    "    color_thief = ColorThief(path)\n",
    "    dominant_color = color_thief.get_color()\n",
    "    dominant_colors = color_thief.get_palette(color_count=255)\n",
    "\n",
    "# Print the dominant colors\n",
    "    #print(dominant_colors)\n",
    "\n",
    "    # Add the file path and dominant color to the list\n",
    "    for color in dominant_colors:\n",
    "        colors.append({'path': path, 'R': color[0], 'G': color[1], 'B': color[2]})\n",
    "\n",
    "# Create a DataFrame from the list of colors\n",
    "df = pd.DataFrame(colors, columns=['B', 'R', 'G'])\n",
    "\n",
    "\n",
    "\n",
    "dominant_colors = color_thief.get_palette(color_count=255)\n",
    "plt.imshow([[dominant_colors[i] for i in range (50)]])\n",
    "plt.show()"
   ]
  },
  {
   "cell_type": "code",
   "execution_count": 29,
   "id": "5c9c2dad-1c3b-4b44-ab70-9e3caad2e2f3",
   "metadata": {},
   "outputs": [
    {
     "data": {
      "image/png": "[encoded data removed]",
      "text/plain": [
       "<Figure size 432x288 with 1 Axes>"
      ]
     },
     "metadata": {
      "needs_background": "light"
     },
     "output_type": "display_data"
    }
   ],
   "source": [
    "# Use glob to get a list of file paths for all the images in the folder\n",
    "image_paths = glob.glob(r\"\\...\\00s\\AlbumArt\\images\\*.jpg\")\n",
    "\n",
    "# Create a list to store the dominant colors for each image\n",
    "colors = []\n",
    "\n",
    "# Loop through the list of image paths\n",
    "for path in image_paths:\n",
    "    # Use the ColorThief object to extract the dominant color from the image\n",
    "    color_thief = ColorThief(path)\n",
    "    dominant_color = color_thief.get_color()\n",
    "    dominant_colors = color_thief.get_palette(color_count=255)\n",
    "\n",
    "# Print the dominant colors\n",
    "    #print(dominant_colors)\n",
    "\n",
    "    # Add the file path and dominant color to the list\n",
    "    for color in dominant_colors:\n",
    "        colors.append({'path': path, 'R': color[0], 'G': color[1], 'B': color[2]})\n",
    "\n",
    "# Create a DataFrame from the list of colors\n",
    "df = pd.DataFrame(colors, columns=['B', 'R', 'G'])\n",
    "\n",
    "\n",
    "\n",
    "dominant_colors = color_thief.get_palette(color_count=255)\n",
    "plt.imshow([[dominant_colors[i] for i in range (50)]])\n",
    "plt.show()"
   ]
  },
  {
   "cell_type": "code",
   "execution_count": 30,
   "id": "c3640cd8-3ddb-4619-b450-eaebd87c1057",
   "metadata": {},
   "outputs": [
    {
     "data": {
      "image/png": "[encoded data removed]",
      "text/plain": [
       "<Figure size 432x288 with 1 Axes>"
      ]
     },
     "metadata": {
      "needs_background": "light"
     },
     "output_type": "display_data"
    }
   ],
   "source": [
    "# Use glob to get a list of file paths for all the images in the folder\n",
    "image_paths = glob.glob(r\"\\...\\10s\\AlbumArt\\images\\*.jpg\")\n",
    "\n",
    "# Create a list to store the dominant colors for each image\n",
    "colors = []\n",
    "\n",
    "# Loop through the list of image paths\n",
    "for path in image_paths:\n",
    "    # Use the ColorThief object to extract the dominant color from the image\n",
    "    color_thief = ColorThief(path)\n",
    "    dominant_color = color_thief.get_color()\n",
    "    dominant_colors = color_thief.get_palette(color_count=255)\n",
    "\n",
    "# Print the dominant colors\n",
    "    #print(dominant_colors)\n",
    "\n",
    "    # Add the file path and dominant color to the list\n",
    "    for color in dominant_colors:\n",
    "        colors.append({'path': path, 'R': color[0], 'G': color[1], 'B': color[2]})\n",
    "\n",
    "# Create a DataFrame from the list of colors\n",
    "df = pd.DataFrame(colors, columns=['B', 'R', 'G'])\n",
    "\n",
    "\n",
    "\n",
    "dominant_colors = color_thief.get_palette(color_count=255)\n",
    "plt.imshow([[dominant_colors[i] for i in range (50)]])\n",
    "plt.show()"
   ]
  },
  {
   "cell_type": "code",
   "execution_count": 31,
   "id": "b1345e17-1252-474c-8b8a-3196ba9b2359",
   "metadata": {},
   "outputs": [
    {
     "data": {
      "image/png": "[encoded data removed]",
      "text/plain": [
       "<Figure size 432x288 with 1 Axes>"
      ]
     },
     "metadata": {
      "needs_background": "light"
     },
     "output_type": "display_data"
    }
   ],
   "source": [
    "# Use glob to get a list of file paths for all the images in the folder\n",
    "image_paths = glob.glob(r\"\\...\\20s\\AlbumArt\\images\\*.jpg\")\n",
    "\n",
    "# Create a list to store the dominant colors for each image\n",
    "colors = []\n",
    "\n",
    "# Loop through the list of image paths\n",
    "for path in image_paths:\n",
    "    # Use the ColorThief object to extract the dominant color from the image\n",
    "    color_thief = ColorThief(path)\n",
    "    dominant_color = color_thief.get_color()\n",
    "    dominant_colors = color_thief.get_palette(color_count=255)\n",
    "\n",
    "# Print the dominant colors\n",
    "    #print(dominant_colors)\n",
    "\n",
    "    # Add the file path and dominant color to the list\n",
    "    for color in dominant_colors:\n",
    "        colors.append({'path': path, 'R': color[0], 'G': color[1], 'B': color[2]})\n",
    "\n",
    "# Create a DataFrame from the list of colors\n",
    "df = pd.DataFrame(colors, columns=['B', 'R', 'G'])\n",
    "\n",
    "\n",
    "\n",
    "dominant_colors = color_thief.get_palette(color_count=255)\n",
    "plt.imshow([[dominant_colors[i] for i in range (50)]])\n",
    "plt.show()"
   ]
  },
  {
   "cell_type": "code",
   "execution_count": 48,
   "id": "b710361e-8c79-42f2-9499-15c3852f64b4",
   "metadata": {},
   "outputs": [
    {
     "data": {
      "image/png": "[encoded data removed]",
      "text/plain": [
       "<Figure size 432x288 with 1 Axes>"
      ]
     },
     "metadata": {
      "needs_background": "light"
     },
     "output_type": "display_data"
    }
   ],
   "source": [
    "#randomizing images in folder\n",
    "import random\n",
    "\n",
    "# Use glob to get a list of file paths for all the images in the folder\n",
    "image_paths = glob.glob(r\"\\...\\10s\\AlbumArt\\images\\*.jpg\")\n",
    "\n",
    "# Shuffle the list of image paths\n",
    "random.shuffle(image_paths)\n",
    "\n",
    "# Get the first 30 images\n",
    "first_30_image_paths = image_paths[:30]\n",
    "\n",
    "# Create a list to store the dominant colors for each image\n",
    "colors = []\n",
    "\n",
    "# Loop through the list of image paths\n",
    "for path in first_30_image_paths:\n",
    "    # Use the ColorThief object to extract the dominant color from the image\n",
    "    color_thief = ColorThief(path)\n",
    "    dominant_color = color_thief.get_color()\n",
    "    dominant_colors = color_thief.get_palette(color_count=255)\n",
    "\n",
    "    # Add the file path and dominant color to the list\n",
    "    for color in dominant_colors:\n",
    "        colors.append({'path': path, 'R': color[0], 'G': color[1], 'B': color[2]})\n",
    "\n",
    "# Create a DataFrame from the list of colors\n",
    "df = pd.DataFrame(colors, columns=['B', 'R', 'G'])\n",
    "\n",
    "dominant_colors = color_thief.get_palette(color_count=255)\n",
    "plt.imshow([[dominant_colors[i] for i in range (50)]])\n",
    "plt.show()"
   ]
  },
  {
   "cell_type": "code",
   "execution_count": 50,
   "id": "9aec0212-ef61-4eaf-ba4f-6c4f86476fe1",
   "metadata": {},
   "outputs": [
    {
     "data": {
      "image/png": "[encoded data removed]",
      "text/plain": [
       "<Figure size 432x288 with 1 Axes>"
      ]
     },
     "metadata": {
      "needs_background": "light"
     },
     "output_type": "display_data"
    }
   ],
   "source": [
    "import random\n",
    "\n",
    "# Use glob to get a list of file paths for all the images in the folder\n",
    "image_paths = glob.glob(r\"\\...\\00s\\AlbumArt\\images\\*.jpg\")\n",
    "\n",
    "# Shuffle the list of image paths\n",
    "random.shuffle(image_paths)\n",
    "\n",
    "# Get the first 30 images\n",
    "first_30_image_paths = image_paths[:30]\n",
    "\n",
    "# Create a list to store the dominant colors for each image\n",
    "colors = []\n",
    "\n",
    "# Loop through the list of image paths\n",
    "for path in first_30_image_paths:\n",
    "    # Use the ColorThief object to extract the dominant color from the image\n",
    "    color_thief = ColorThief(path)\n",
    "    dominant_color = color_thief.get_color()\n",
    "    dominant_colors = color_thief.get_palette(color_count=255)\n",
    "\n",
    "    # Add the file path and dominant color to the list\n",
    "    for color in dominant_colors:\n",
    "        colors.append({'path': path, 'R': color[0], 'G': color[1], 'B': color[2]})\n",
    "\n",
    "# Create a DataFrame from the list of colors\n",
    "df = pd.DataFrame(colors, columns=['B', 'R', 'G'])\n",
    "\n",
    "dominant_colors = color_thief.get_palette(color_count=255)\n",
    "plt.imshow([[dominant_colors[i] for i in range (50)]])\n",
    "plt.show()"
   ]
  },
  {
   "cell_type": "code",
   "execution_count": 51,
   "id": "50726505-a478-4bef-9935-8a77471cc237",
   "metadata": {},
   "outputs": [
    {
     "data": {
      "image/png": "[encoded data removed]",
      "text/plain": [
       "<Figure size 432x288 with 1 Axes>"
      ]
     },
     "metadata": {
      "needs_background": "light"
     },
     "output_type": "display_data"
    }
   ],
   "source": [
    "import random\n",
    "\n",
    "# Use glob to get a list of file paths for all the images in the folder\n",
    "image_paths = glob.glob(r\"\\...\\90s\\AlbumArt\\images\\*.jpg\")\n",
    "\n",
    "# Shuffle the list of image paths\n",
    "random.shuffle(image_paths)\n",
    "\n",
    "# Get the first 30 images\n",
    "first_30_image_paths = image_paths[:30]\n",
    "\n",
    "# Create a list to store the dominant colors for each image\n",
    "colors = []\n",
    "\n",
    "# Loop through the list of image paths\n",
    "for path in first_30_image_paths:\n",
    "    # Use the ColorThief object to extract the dominant color from the image\n",
    "    color_thief = ColorThief(path)\n",
    "    dominant_color = color_thief.get_color()\n",
    "    dominant_colors = color_thief.get_palette(color_count=255)\n",
    "\n",
    "    # Add the file path and dominant color to the list\n",
    "    for color in dominant_colors:\n",
    "        colors.append({'path': path, 'R': color[0], 'G': color[1], 'B': color[2]})\n",
    "\n",
    "# Create a DataFrame from the list of colors\n",
    "df = pd.DataFrame(colors, columns=['B', 'R', 'G'])\n",
    "\n",
    "dominant_colors = color_thief.get_palette(color_count=255)\n",
    "plt.imshow([[dominant_colors[i] for i in range (50)]])\n",
    "plt.show()"
   ]
  },
  {
   "cell_type": "code",
   "execution_count": null,
   "id": "9444ee64-73d3-456f-ac07-cb3dbee9d4c6",
   "metadata": {},
   "outputs": [],
   "source": []
  },
  {
   "cell_type": "code",
   "execution_count": null,
   "id": "0d15f947-e83c-40cb-994a-85e22c6ee3df",
   "metadata": {},
   "outputs": [],
   "source": []
  }
 ],
 "metadata": {
  "kernelspec": {
   "display_name": "Python 3 (ipykernel)",
   "language": "python",
   "name": "python3"
  },
  "language_info": {
   "codemirror_mode": {
    "name": "ipython",
    "version": 3
   },
   "file_extension": ".py",
   "mimetype": "text/x-python",
   "name": "python",
   "nbconvert_exporter": "python",
   "pygments_lexer": "ipython3",
   "version": "3.9.12"
  }
 },
 "nbformat": 4,
 "nbformat_minor": 5
}
